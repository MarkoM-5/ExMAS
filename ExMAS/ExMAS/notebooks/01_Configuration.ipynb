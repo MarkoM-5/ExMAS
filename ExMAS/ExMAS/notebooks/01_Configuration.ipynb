{
 "cells": [
  {
   "cell_type": "markdown",
   "metadata": {},
   "source": [
    "## ExMAS\n",
    "> *Exact Matching of Attractive Shared rides (ExMAS) for system-wide strategic evaluations*\n",
    "> \n",
    "> Kucharski R. Cats O. ,_Transportation Research Part: B_, 2020\n",
    "\n",
    "---\n",
    "#### Configuration\n",
    "\n",
    "ExMAS is controlled from `.json` file which can be modified with different parameters to be stored and used in custom experiments\n",
    "\n",
    "---"
   ]
  },
  {
   "cell_type": "code",
   "execution_count": 1,
   "metadata": {},
   "outputs": [
    {
     "ename": "ModuleNotFoundError",
     "evalue": "No module named 'MaaSSim'",
     "output_type": "error",
     "traceback": [
      "\u001b[1;31m---------------------------------------------------------------------------\u001b[0m",
      "\u001b[1;31mModuleNotFoundError\u001b[0m                       Traceback (most recent call last)",
      "\u001b[1;32m<ipython-input-1-e2300d673865>\u001b[0m in \u001b[0;36m<module>\u001b[1;34m\u001b[0m\n\u001b[1;32m----> 1\u001b[1;33m \u001b[1;32mfrom\u001b[0m \u001b[0mMaaSSim\u001b[0m\u001b[1;33m.\u001b[0m\u001b[0mutils\u001b[0m \u001b[1;32mimport\u001b[0m \u001b[0mget_config\u001b[0m\u001b[1;33m,\u001b[0m \u001b[0mload_G\u001b[0m\u001b[1;33m,\u001b[0m \u001b[0mprep_supply_and_demand\u001b[0m  \u001b[1;31m# simulator\u001b[0m\u001b[1;33m\u001b[0m\u001b[1;33m\u001b[0m\u001b[0m\n\u001b[0m",
      "\u001b[1;31mModuleNotFoundError\u001b[0m: No module named 'MaaSSim'"
     ]
    }
   ],
   "source": [
    "from MaaSSim.utils import get_config, load_G, prep_supply_and_demand  # simulator"
   ]
  },
  {
   "cell_type": "code",
   "execution_count": 1,
   "metadata": {},
   "outputs": [],
   "source": [
    "import os\n",
    "cwd = os.getcwd()"
   ]
  },
  {
   "cell_type": "code",
   "execution_count": 2,
   "metadata": {},
   "outputs": [],
   "source": [
    "os.chdir(os.path.join(cwd,'../..'))  # main package directory\n",
    "import ExMAS\n",
    "import ExMAS.utils\n",
    "import pprint"
   ]
  },
  {
   "cell_type": "markdown",
   "metadata": {},
   "source": [
    "load the default config"
   ]
  },
  {
   "cell_type": "code",
   "execution_count": 3,
   "metadata": {},
   "outputs": [],
   "source": [
    "params = ExMAS.utils.get_config('ExMAS/data/configs/default.json') # load the default"
   ]
  },
  {
   "cell_type": "markdown",
   "metadata": {},
   "source": [
    "modify parameters"
   ]
  },
  {
   "cell_type": "code",
   "execution_count": null,
   "metadata": {},
   "outputs": [],
   "source": [
    "params.nP = 200 # number of trips\n",
    "params.simTime = 0.25 # hours\n",
    "params.city = 'Amsterdam, Netherlands'\n",
    "params.avg_speed = 8 # m/s\n",
    "params.shared_discount = 0.3  # relative discount for sharing (i.e. instead of 10EUR single you pay (1-0.3)*10EUR\n",
    "params.delay_value = 1  # discomfort of delay (beta)\n",
    "params.WtS = 1.3  # willingness to share\n",
    "params.price = 1.5 # eur/km\n",
    "params.VoT = 0.0035 # Value-of-time [eur/s]\n",
    "params.matching_obj = 'u_veh' # objective in matching trips to shared rides ['u_veh', or 'u_pax']\n",
    "params.pax_delay = 15  # delay for each picked-up traveller  [s]\n",
    "params.horizon = 1200  # planning horizon\n",
    "params.max_degree = 8 # capacity of vehicles (paxes)"
   ]
  },
  {
   "cell_type": "code",
   "execution_count": null,
   "metadata": {},
   "outputs": [],
   "source": [
    "params = ExMAS.utils.make_paths(params)\n",
    "params.t0 = '15:00'"
   ]
  },
  {
   "cell_type": "code",
   "execution_count": null,
   "metadata": {},
   "outputs": [],
   "source": [
    "pprint.pprint(params)"
   ]
  },
  {
   "cell_type": "markdown",
   "metadata": {},
   "source": [
    "save"
   ]
  },
  {
   "cell_type": "code",
   "execution_count": null,
   "metadata": {},
   "outputs": [],
   "source": [
    "ExMAS.utils.save_config(params, 'ExMAS/data/configs/ams-config-1.json')"
   ]
  },
  {
   "cell_type": "markdown",
   "metadata": {},
   "source": [
    "---\n",
    "(c) Rafał Kucharski, Delft, 2020"
   ]
  },
  {
   "cell_type": "code",
   "execution_count": null,
   "metadata": {},
   "outputs": [],
   "source": []
  }
 ],
 "metadata": {
  "kernelspec": {
   "display_name": "Python 3",
   "language": "python",
   "name": "python3"
  },
  "language_info": {
   "codemirror_mode": {
    "name": "ipython",
    "version": 3
   },
   "file_extension": ".py",
   "mimetype": "text/x-python",
   "name": "python",
   "nbconvert_exporter": "python",
   "pygments_lexer": "ipython3",
   "version": "3.8.5"
  }
 },
 "nbformat": 4,
 "nbformat_minor": 4
}
