{
 "cells": [
  {
   "cell_type": "markdown",
   "metadata": {},
   "source": [
    "## ExMAS\n",
    "> Exact Matching of Attractive Shared rides (ExMAS) for system-wide strategic evaluations\n",
    "> \n",
    "> Kucharski R., Cats O. ,_Transportation Research Part: B_, 2020\n",
    "\n",
    "---\n",
    "#### Parallel experiments\n",
    "\n",
    "Explore the search space of hyperparameters with parallel multiple runs of ExMAS\n",
    "\n",
    "Merge the results into single DataFrame and visualize"
   ]
  },
  {
   "cell_type": "code",
   "execution_count": 1,
   "metadata": {},
   "outputs": [],
   "source": [
    "import os\n",
    "cwd = os.getcwd()"
   ]
  },
  {
   "cell_type": "code",
   "execution_count": 2,
   "metadata": {},
   "outputs": [],
   "source": [
    "os.chdir(os.path.join(cwd,'../..'))\n",
    "import ExMAS.main\n",
    "import ExMAS.utils"
   ]
  },
  {
   "cell_type": "code",
   "execution_count": 3,
   "metadata": {},
   "outputs": [],
   "source": [
    "from ExMAS.utils import inData as inData"
   ]
  },
  {
   "cell_type": "code",
   "execution_count": 4,
   "metadata": {},
   "outputs": [],
   "source": [
    "from ExMAS.experiments import experiment\n",
    "from dotmap import DotMap"
   ]
  },
  {
   "cell_type": "markdown",
   "metadata": {},
   "source": [
    "### create the search space"
   ]
  },
  {
   "cell_type": "code",
   "execution_count": 5,
   "metadata": {},
   "outputs": [],
   "source": [
    "def my_search_space():\n",
    "    # sspace to explore\n",
    "    full_space = DotMap()\n",
    "    full_space.nP = [100, 200, 300, 400]\n",
    "    full_space.shared_discount = [0.2, 0.25, 0.3]\n",
    "    full_space.horizon = [60, 300,  1200, -1]\n",
    "    return full_space"
   ]
  },
  {
   "cell_type": "markdown",
   "metadata": {},
   "source": [
    "### run"
   ]
  },
  {
   "cell_type": "code",
   "execution_count": 6,
   "metadata": {},
   "outputs": [
    {
     "name": "stdout",
     "output_type": "stream",
     "text": [
      "Help on function experiment in module ExMAS.experiments:\n",
      "\n",
      "experiment(space=None, config='ExMAS/data/configs/default.json', workers=-1, replications=1)\n",
      "    Explores the search space `space` starting from base configuration from `config` using `workers` parallel threads`\n",
      "    :param space:\n",
      "    :param config:\n",
      "    :param workers:\n",
      "    :param replications:\n",
      "    :return: set of csvs in 'data/results`\n",
      "\n"
     ]
    }
   ],
   "source": [
    "help(experiment)"
   ]
  },
  {
   "cell_type": "code",
   "execution_count": 7,
   "metadata": {},
   "outputs": [
    {
     "name": "stdout",
     "output_type": "stream",
     "text": [
      "Search space to explore of dimensions [4, 3, 4] and total size of 48\n",
      "city_Delft_Netherlands_nP_100_shareddiscount_02_horizon_60_dt_0_days_000000838796_searchspace_206 2020-07-03 14:16:59.414513 done\n",
      "city_Delft_Netherlands_nP_100_shareddiscount_02_horizon_1_dt_0_days_000001416267_searchspace_281 2020-07-03 14:17:00.138944 done\n",
      "city_Delft_Netherlands_nP_100_shareddiscount_02_horizon_300_dt_0_days_000001157463_searchspace_267 2020-07-03 14:17:00.771407 done\n",
      "city_Delft_Netherlands_nP_100_shareddiscount_025_horizon_60_dt_0_days_000000819583_searchspace_230 2020-07-03 14:17:01.161631 done\n",
      "city_Delft_Netherlands_nP_100_shareddiscount_03_horizon_300_dt_0_days_000002183074_searchspace_510 2020-07-03 14:17:01.212103 done\n",
      "city_Delft_Netherlands_nP_100_shareddiscount_025_horizon_1200_dt_0_days_000002340803_searchspace_458 2020-07-03 14:17:01.240456 done\n",
      "city_Delft_Netherlands_nP_100_shareddiscount_02_horizon_1200_dt_0_days_000001391498_searchspace_274 2020-07-03 14:17:02.448713 done\n",
      "city_Delft_Netherlands_nP_100_shareddiscount_025_horizon_300_dt_0_days_000001494170_searchspace_352 2020-07-03 14:17:02.929022 done\n",
      "city_Delft_Netherlands_nP_200_shareddiscount_02_horizon_60_dt_0_days_000000664534_searchspace_204 2020-07-03 14:17:03.498673 done\n",
      "city_Delft_Netherlands_nP_100_shareddiscount_025_horizon_1_dt_0_days_000002138428_searchspace_456 2020-07-03 14:17:03.629314 done\n",
      "city_Delft_Netherlands_nP_200_shareddiscount_02_horizon_1_dt_0_days_000001404438_searchspace_300 city_Delft_Netherlands_nP_100_shareddiscount_03_horizon_60_dt_0_days_000000824852_searchspace_2392020-07-03 14:17:04.639806  2020-07-03 14:17:04.641607done \n",
      "done\n",
      "city_Delft_Netherlands_nP_100_shareddiscount_03_horizon_1200_dt_0_days_000003186351_searchspace_714 2020-07-03 14:17:04.665575 done\n",
      "city_Delft_Netherlands_nP_200_shareddiscount_02_horizon_300_dt_0_days_000001172680_searchspace_262 2020-07-03 14:17:04.848038 done\n",
      "city_Delft_Netherlands_nP_200_shareddiscount_025_horizon_60_dt_0_days_000000786266_searchspace_235 2020-07-03 14:17:05.652434 done\n",
      "city_Delft_Netherlands_nP_200_shareddiscount_02_horizon_1200_dt_0_days_000001502029_searchspace_283 2020-07-03 14:17:06.576874 done\n",
      "city_Delft_Netherlands_nP_200_shareddiscount_025_horizon_1200_dt_0_days_000002194570_searchspace_449 2020-07-03 14:17:07.279543 done\n",
      "city_Delft_Netherlands_nP_200_shareddiscount_025_horizon_300_dt_0_days_000001743314_searchspace_389 2020-07-03 14:17:07.576028 done\n",
      "city_Delft_Netherlands_nP_300_shareddiscount_02_horizon_60_dt_0_days_000000693510_searchspace_207 2020-07-03 14:17:08.677624 done\n",
      "city_Delft_Netherlands_nP_200_shareddiscount_03_horizon_300_dt_0_days_000002326369_searchspace_555 2020-07-03 14:17:09.310831 done\n",
      "city_Delft_Netherlands_nP_100_shareddiscount_03_horizon_1_dt_0_days_000004625081_searchspace_926 2020-07-03 14:17:09.464749 done\n",
      "city_Delft_Netherlands_nP_300_shareddiscount_02_horizon_300_dt_0_days_000001264130_searchspace_255 2020-07-03 14:17:10.100514 done\n",
      "city_Delft_Netherlands_nP_200_shareddiscount_025_horizon_1_dt_0_days_000003033508_searchspace_612 2020-07-03 14:17:10.476724 done\n",
      "city_Delft_Netherlands_nP_300_shareddiscount_02_horizon_1_dt_0_days_000001860719_searchspace_309 2020-07-03 14:17:11.717136 done\n",
      "city_Delft_Netherlands_nP_200_shareddiscount_03_horizon_60_dt_0_days_000001149679_searchspace_275 2020-07-03 14:17:11.858320 done\n",
      "city_Delft_Netherlands_nP_300_shareddiscount_02_horizon_1200_dt_0_days_000001711229_searchspace_283 2020-07-03 14:17:12.064296 done\n",
      "city_Delft_Netherlands_nP_300_shareddiscount_025_horizon_60_dt_0_days_000000726575_searchspace_229 2020-07-03 14:17:12.672905 done\n",
      "city_Delft_Netherlands_nP_200_shareddiscount_03_horizon_1200_dt_0_days_000004026023_searchspace_805 2020-07-03 14:17:13.537311 done\n",
      "city_Delft_Netherlands_nP_300_shareddiscount_025_horizon_1200_dt_0_days_000002051332_searchspace_464 2020-07-03 14:17:14.346930 done\n",
      "city_Delft_Netherlands_nP_300_shareddiscount_025_horizon_300_dt_0_days_000001651697_searchspace_421 2020-07-03 14:17:14.512444 done\n",
      "city_Delft_Netherlands_nP_300_shareddiscount_03_horizon_300_dt_0_days_000002758403_searchspace_678 2020-07-03 14:17:15.242701 done\n",
      "city_Delft_Netherlands_nP_400_shareddiscount_02_horizon_60_dt_0_days_000000687651_searchspace_209 2020-07-03 14:17:15.581739 done\n",
      "city_Delft_Netherlands_nP_300_shareddiscount_025_horizon_1_dt_0_days_000002260555_searchspace_456 2020-07-03 14:17:16.777484 done\n",
      "city_Delft_Netherlands_nP_400_shareddiscount_02_horizon_300_dt_0_days_000001162609_searchspace_270 2020-07-03 14:17:16.947367 done\n",
      "city_Delft_Netherlands_nP_200_shareddiscount_03_horizon_1_dt_0_days_000004534250_searchspace_893 2020-07-03 14:17:18.227037 done\n",
      "city_Delft_Netherlands_nP_300_shareddiscount_03_horizon_60_dt_0_days_000001322240_searchspace_289 2020-07-03 14:17:18.263379 done\n",
      "city_Delft_Netherlands_nP_400_shareddiscount_02_horizon_1200_dt_0_days_000001794598_searchspace_285 2020-07-03 14:17:18.916497 done\n",
      "city_Delft_Netherlands_nP_300_shareddiscount_03_horizon_1200_dt_0_days_000004384643_searchspace_843 2020-07-03 14:17:19.835576 done\n",
      "city_Delft_Netherlands_nP_400_shareddiscount_02_horizon_1_dt_0_days_000001576905_searchspace_322 2020-07-03 14:17:20.202052 done\n",
      "city_Delft_Netherlands_nP_400_shareddiscount_025_horizon_1200_dt_0_days_000001884550_searchspace_399 2020-07-03 14:17:20.631002 done\n",
      "city_Delft_Netherlands_nP_400_shareddiscount_025_horizon_60_dt_0_days_000000805407_searchspace_234 2020-07-03 14:17:21.163823 done\n",
      "city_Delft_Netherlands_nP_400_shareddiscount_03_horizon_300_dt_0_days_000002209161_searchspace_549 2020-07-03 14:17:21.543707 done\n",
      "city_Delft_Netherlands_nP_400_shareddiscount_025_horizon_1_dt_0_days_000002116526_searchspace_471 2020-07-03 14:17:22.903708 done\n",
      "city_Delft_Netherlands_nP_400_shareddiscount_025_horizon_300_dt_0_days_000001622925_searchspace_376 2020-07-03 14:17:22.960264 done\n",
      "city_Delft_Netherlands_nP_300_shareddiscount_03_horizon_1_dt_0_days_000004111366_searchspace_914 2020-07-03 14:17:24.103748 done\n",
      "city_Delft_Netherlands_nP_400_shareddiscount_03_horizon_60_dt_0_days_000001044211_searchspace_291 2020-07-03 14:17:24.158570 done\n",
      "city_Delft_Netherlands_nP_400_shareddiscount_03_horizon_1200_dt_0_days_000003082440_searchspace_755 2020-07-03 14:17:24.842413 done\n",
      "city_Delft_Netherlands_nP_400_shareddiscount_03_horizon_1_dt_0_days_000003530852_searchspace_946 2020-07-03 14:17:28.511315 done\n"
     ]
    }
   ],
   "source": [
    "experiment(space=my_search_space(), config = 'ExMAS/data/configs/default.json', workers = 4) # explores the search space"
   ]
  },
  {
   "cell_type": "markdown",
   "metadata": {},
   "source": [
    "### process the results:"
   ]
  },
  {
   "cell_type": "code",
   "execution_count": 5,
   "metadata": {},
   "outputs": [
    {
     "ename": "ValueError",
     "evalue": "No objects to concatenate",
     "output_type": "error",
     "traceback": [
      "\u001b[0;31m---------------------------------------------------------------------------\u001b[0m",
      "\u001b[0;31mValueError\u001b[0m                                Traceback (most recent call last)",
      "\u001b[0;32m<ipython-input-5-a180bb55bf4a>\u001b[0m in \u001b[0;36m<module>\u001b[0;34m\u001b[0m\n\u001b[0;32m----> 1\u001b[0;31m \u001b[0mresults\u001b[0m \u001b[0;34m=\u001b[0m \u001b[0mExMAS\u001b[0m\u001b[0;34m.\u001b[0m\u001b[0mutils\u001b[0m\u001b[0;34m.\u001b[0m\u001b[0mmerge_csvs\u001b[0m\u001b[0;34m(\u001b[0m\u001b[0;32mNone\u001b[0m\u001b[0;34m,\u001b[0m \u001b[0;34m'ExMAS/data/results/*.csv\"'\u001b[0m\u001b[0;34m,\u001b[0m \u001b[0mto_numeric\u001b[0m \u001b[0;34m=\u001b[0m \u001b[0;32mTrue\u001b[0m\u001b[0;34m)\u001b[0m\u001b[0;34m\u001b[0m\u001b[0;34m\u001b[0m\u001b[0m\n\u001b[0m",
      "\u001b[0;32m~/Documents/GitHub/ExMAS/ExMAS/utils.py\u001b[0m in \u001b[0;36mmerge_csvs\u001b[0;34m(params, path, to_numeric)\u001b[0m\n\u001b[1;32m    171\u001b[0m         \u001b[0ml\u001b[0m\u001b[0;34m.\u001b[0m\u001b[0mappend\u001b[0m\u001b[0;34m(\u001b[0m\u001b[0mdf\u001b[0m\u001b[0;34m.\u001b[0m\u001b[0mT\u001b[0m\u001b[0;34m)\u001b[0m\u001b[0;34m\u001b[0m\u001b[0;34m\u001b[0m\u001b[0m\n\u001b[1;32m    172\u001b[0m \u001b[0;34m\u001b[0m\u001b[0m\n\u001b[0;32m--> 173\u001b[0;31m     \u001b[0mres\u001b[0m \u001b[0;34m=\u001b[0m \u001b[0mpd\u001b[0m\u001b[0;34m.\u001b[0m\u001b[0mconcat\u001b[0m\u001b[0;34m(\u001b[0m\u001b[0ml\u001b[0m\u001b[0;34m)\u001b[0m\u001b[0;34m\u001b[0m\u001b[0;34m\u001b[0m\u001b[0m\n\u001b[0m\u001b[1;32m    174\u001b[0m     \u001b[0;32mif\u001b[0m \u001b[0mto_numeric\u001b[0m\u001b[0;34m:\u001b[0m\u001b[0;34m\u001b[0m\u001b[0;34m\u001b[0m\u001b[0m\n\u001b[1;32m    175\u001b[0m         \u001b[0mres\u001b[0m \u001b[0;34m=\u001b[0m \u001b[0mres\u001b[0m\u001b[0;34m.\u001b[0m\u001b[0mapply\u001b[0m\u001b[0;34m(\u001b[0m\u001b[0mpd\u001b[0m\u001b[0;34m.\u001b[0m\u001b[0mto_numeric\u001b[0m\u001b[0;34m,\u001b[0m \u001b[0merrors\u001b[0m\u001b[0;34m=\u001b[0m\u001b[0;34m'coerce'\u001b[0m\u001b[0;34m)\u001b[0m\u001b[0;34m\u001b[0m\u001b[0;34m\u001b[0m\u001b[0m\n",
      "\u001b[0;32m~/anaconda3/envs/maassim/lib/python3.7/site-packages/pandas/core/reshape/concat.py\u001b[0m in \u001b[0;36mconcat\u001b[0;34m(objs, axis, join, ignore_index, keys, levels, names, verify_integrity, sort, copy)\u001b[0m\n\u001b[1;32m    279\u001b[0m         \u001b[0mverify_integrity\u001b[0m\u001b[0;34m=\u001b[0m\u001b[0mverify_integrity\u001b[0m\u001b[0;34m,\u001b[0m\u001b[0;34m\u001b[0m\u001b[0;34m\u001b[0m\u001b[0m\n\u001b[1;32m    280\u001b[0m         \u001b[0mcopy\u001b[0m\u001b[0;34m=\u001b[0m\u001b[0mcopy\u001b[0m\u001b[0;34m,\u001b[0m\u001b[0;34m\u001b[0m\u001b[0;34m\u001b[0m\u001b[0m\n\u001b[0;32m--> 281\u001b[0;31m         \u001b[0msort\u001b[0m\u001b[0;34m=\u001b[0m\u001b[0msort\u001b[0m\u001b[0;34m,\u001b[0m\u001b[0;34m\u001b[0m\u001b[0;34m\u001b[0m\u001b[0m\n\u001b[0m\u001b[1;32m    282\u001b[0m     )\n\u001b[1;32m    283\u001b[0m \u001b[0;34m\u001b[0m\u001b[0m\n",
      "\u001b[0;32m~/anaconda3/envs/maassim/lib/python3.7/site-packages/pandas/core/reshape/concat.py\u001b[0m in \u001b[0;36m__init__\u001b[0;34m(self, objs, axis, join, keys, levels, names, ignore_index, verify_integrity, copy, sort)\u001b[0m\n\u001b[1;32m    327\u001b[0m \u001b[0;34m\u001b[0m\u001b[0m\n\u001b[1;32m    328\u001b[0m         \u001b[0;32mif\u001b[0m \u001b[0mlen\u001b[0m\u001b[0;34m(\u001b[0m\u001b[0mobjs\u001b[0m\u001b[0;34m)\u001b[0m \u001b[0;34m==\u001b[0m \u001b[0;36m0\u001b[0m\u001b[0;34m:\u001b[0m\u001b[0;34m\u001b[0m\u001b[0;34m\u001b[0m\u001b[0m\n\u001b[0;32m--> 329\u001b[0;31m             \u001b[0;32mraise\u001b[0m \u001b[0mValueError\u001b[0m\u001b[0;34m(\u001b[0m\u001b[0;34m\"No objects to concatenate\"\u001b[0m\u001b[0;34m)\u001b[0m\u001b[0;34m\u001b[0m\u001b[0;34m\u001b[0m\u001b[0m\n\u001b[0m\u001b[1;32m    330\u001b[0m \u001b[0;34m\u001b[0m\u001b[0m\n\u001b[1;32m    331\u001b[0m         \u001b[0;32mif\u001b[0m \u001b[0mkeys\u001b[0m \u001b[0;32mis\u001b[0m \u001b[0;32mNone\u001b[0m\u001b[0;34m:\u001b[0m\u001b[0;34m\u001b[0m\u001b[0;34m\u001b[0m\u001b[0m\n",
      "\u001b[0;31mValueError\u001b[0m: No objects to concatenate"
     ]
    }
   ],
   "source": [
    "results = ExMAS.utils.merge_csvs(None, 'ExMAS/data/results/*.csv\"', to_numeric = True)"
   ]
  },
  {
   "cell_type": "code",
   "execution_count": 9,
   "metadata": {},
   "outputs": [],
   "source": [
    "results = ExMAS.utils.make_KPIs(results, params = ExMAS.utils.get_config('ExMAS/data/configs/default.json'))"
   ]
  },
  {
   "cell_type": "code",
   "execution_count": 10,
   "metadata": {},
   "outputs": [],
   "source": [
    "import matplotlib.pyplot as plt\n",
    "plt.rcParams['figure.figsize'] = [4, 4]\n",
    "plt.rcParams[\"font.family\"] = \"Helvetica\"\n",
    "plt.style.use('ggplot')"
   ]
  },
  {
   "cell_type": "code",
   "execution_count": 11,
   "metadata": {},
   "outputs": [
    {
     "data": {
      "image/png": "[encoded data removed]",
      "text/plain": [
       "<Figure size 288x288 with 1 Axes>"
      ]
     },
     "metadata": {},
     "output_type": "display_data"
    }
   ],
   "source": [
    "tp = results[(results.horizon == -1) \n",
    "       & (results.shared_discount == 0.3)\n",
    "       & (results.nP >0)]\n",
    "_ = ExMAS.utils.plot_paper_multi(tp, x = '$Q$', \n",
    "                 ys = ['$\\Delta T_r$', '$\\Delta T_q$', '$\\Delta U_r$'], figname = '1_1.svg', y_label = 'rel. diff.', path = '')"
   ]
  },
  {
   "cell_type": "code",
   "execution_count": 12,
   "metadata": {},
   "outputs": [
    {
     "data": {
      "image/png": "[encoded data removed]",
      "text/plain": [
       "<Figure size 288x288 with 1 Axes>"
      ]
     },
     "metadata": {},
     "output_type": "display_data"
    }
   ],
   "source": [
    "tp = results[(results.horizon == -1) \n",
    "       & (results.nP ==300)]\n",
    "_ = ExMAS.utils.plot_paper_multi(tp, x = '$\\lambda$', \n",
    "                 ys = ['$\\Delta T_r$', '$\\Delta T_q$', '$\\Delta U_r$'], figname = '1_1.svg', y_label = 'rel. diff.', path = '')"
   ]
  },
  {
   "cell_type": "code",
   "execution_count": 13,
   "metadata": {},
   "outputs": [
    {
     "data": {
      "image/png": "[encoded data removed]",
      "text/plain": [
       "<Figure size 288x288 with 1 Axes>"
      ]
     },
     "metadata": {},
     "output_type": "display_data"
    }
   ],
   "source": [
    "tp = results[(results.shared_discount == 0.3)\n",
    "       & (results.nP ==300)]\n",
    "_ = ExMAS.utils.plot_paper_multi(tp, x = '$T$', \n",
    "                 ys = ['$\\Delta T_r$', '$\\Delta T_q$', '$\\Delta U_r$'], figname = '1_1.svg', y_label = 'rel. diff.', path = '')"
   ]
  },
  {
   "cell_type": "markdown",
   "metadata": {},
   "source": [
    "---\n",
    "(c) Rafał Kucharski, Delft, 2020"
   ]
  }
 ],
 "metadata": {
  "kernelspec": {
   "display_name": "Python 3",
   "language": "python",
   "name": "python3"
  },
  "language_info": {
   "codemirror_mode": {
    "name": "ipython",
    "version": 3
   },
   "file_extension": ".py",
   "mimetype": "text/x-python",
   "name": "python",
   "nbconvert_exporter": "python",
   "pygments_lexer": "ipython3",
   "version": "3.7.6"
  }
 },
 "nbformat": 4,
 "nbformat_minor": 4
}
