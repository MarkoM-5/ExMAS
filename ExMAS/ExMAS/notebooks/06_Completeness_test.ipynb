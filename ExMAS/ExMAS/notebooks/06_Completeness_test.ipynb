{
 "cells": [
  {
   "cell_type": "markdown",
   "metadata": {},
   "source": [
    "# Algorithm completeness\n",
    "This code shows completeness of the algorith.\n",
    "It starts with builind a toy graph where origins are nearby and destinations are nearby too. \n",
    "They depart every 5 seconds, so in theory all trips shall be shareable in any combination.\n",
    "Here we test it.\n",
    "In such setting even for small sets size quickly becomes huge.\n",
    "\n",
    "We tested up to 8 trips, which can be shared in 219192 rides\n",
    "\n",
    "----"
   ]
  },
  {
   "cell_type": "markdown",
   "metadata": {},
   "source": [
    "## ExMAS\n",
    "> Exact Matching of Attractive Shared rides (ExMAS) for system-wide strategic evaluations\n",
    "> \n",
    "> Kucharski R., Cats O. ,_Transportation Research Part: B_, 2020\n",
    "\n",
    "---\n",
    "#### Walkthrough"
   ]
  },
  {
   "cell_type": "code",
   "execution_count": 1,
   "metadata": {},
   "outputs": [],
   "source": [
    "import os\n",
    "cwd = os.getcwd()"
   ]
  },
  {
   "cell_type": "code",
   "execution_count": 2,
   "metadata": {},
   "outputs": [],
   "source": [
    "os.chdir(os.path.join(cwd,'../..'))\n",
    "import ExMAS.main\n",
    "import ExMAS.utils"
   ]
  },
  {
   "cell_type": "code",
   "execution_count": 3,
   "metadata": {},
   "outputs": [],
   "source": [
    "from ExMAS.utils import inData as inData"
   ]
  },
  {
   "cell_type": "markdown",
   "metadata": {},
   "source": [
    "### prepare"
   ]
  },
  {
   "cell_type": "markdown",
   "metadata": {},
   "source": [
    "1. __load the default config__ (see more details in `ExMAS/notebooks/01 configuration.ipynb`)"
   ]
  },
  {
   "cell_type": "code",
   "execution_count": 4,
   "metadata": {},
   "outputs": [],
   "source": [
    "params = ExMAS.utils.get_config('ExMAS/data/configs/default.json') # load the default "
   ]
  },
  {
   "cell_type": "markdown",
   "metadata": {},
   "source": [
    "2. __load the network__ (see more details in `ExMAS/notebooks/02 NetworkGraphs.ipynb`)"
   ]
  },
  {
   "cell_type": "code",
   "execution_count": 5,
   "metadata": {},
   "outputs": [],
   "source": [
    "inData = ExMAS.utils.load_G(inData, params, stats=True)  # download the graph"
   ]
  },
  {
   "cell_type": "markdown",
   "metadata": {},
   "source": [
    "3. __generate trip requests__ (see more details in `ExMAS/notebooks/03 Demand Generation.ipynb`)"
   ]
  },
  {
   "cell_type": "code",
   "execution_count": 6,
   "metadata": {},
   "outputs": [],
   "source": [
    "inData = ExMAS.utils.generate_demand(inData, params)"
   ]
  },
  {
   "cell_type": "code",
   "execution_count": 7,
   "metadata": {},
   "outputs": [],
   "source": [
    "import networkx as nx\n",
    "import pandas as pd"
   ]
  },
  {
   "cell_type": "code",
   "execution_count": 8,
   "metadata": {},
   "outputs": [],
   "source": [
    "import matplotlib.pyplot as plt\n",
    "import matplotlib\n",
    "import pandas as pd\n",
    "from matplotlib.collections import LineCollection\n",
    "import pulp\n",
    "import numpy as np\n",
    "pd.options.mode.chained_assignment = None\n",
    "pd.set_option('display.float_format', lambda x: '%.3f' % x)\n",
    "%load_ext autoreload\n",
    "%autoreload 2\n",
    "\n",
    "params.horizon = 600\n",
    "\n",
    "#inData = load_G(inData, params, stats = True) # download the graph for the 'params.city' (Delft) and calc the skim matrices"
   ]
  },
  {
   "cell_type": "code",
   "execution_count": 9,
   "metadata": {},
   "outputs": [],
   "source": [
    "params.t0 = pd.Timestamp.now()\n",
    "params.nP = 6 # number of trips\n",
    "params.simTime = 0.5 #hours\n",
    "params.avg_speed = 8\n",
    "params.shared_discount = 0.3\n",
    "params.delay_value = 1.5\n",
    "params.WtS = 1.1\n",
    "params.price = 1 #eur/km\n",
    "params.VoT = 0.0035 #eur/s\n",
    "params.matching_obj = 'u_veh' #minimize VHT for vehicles\n",
    "params.pax_delay = 30\n",
    "params.horizon = -1\n",
    "params.max_degree = 3\n",
    "params.nP = params.nP"
   ]
  },
  {
   "cell_type": "markdown",
   "metadata": {},
   "source": [
    "make graph"
   ]
  },
  {
   "cell_type": "code",
   "execution_count": 10,
   "metadata": {},
   "outputs": [],
   "source": [
    "G = nx.DiGraph()\n",
    "odl1 = 50\n",
    "odl2 = 10000\n",
    "G.add_node(0,data='')\n",
    "G.add_node(1,data='')\n",
    "G.add_edge(0,1,length=odl2)\n",
    "G.add_edge(1,0,length=odl2)\n",
    "for i in range(params.nP):\n",
    "    G.add_node(100+i, data='')\n",
    "    G.add_edge(100+i,0,length=odl1)\n",
    "    G.add_edge(0,100+i,length=odl1)\n",
    "    G.add_node(200+i, data='')\n",
    "    G.add_edge(200+i,1,length=odl1)\n",
    "    G.add_edge(1,200+i,length=odl1)    \n",
    "inData.G = G\n",
    "inData.nodes = pd.DataFrame.from_dict(dict(inData.G.nodes()), orient='index')"
   ]
  },
  {
   "cell_type": "markdown",
   "metadata": {},
   "source": [
    "calc skim"
   ]
  },
  {
   "cell_type": "code",
   "execution_count": 11,
   "metadata": {},
   "outputs": [],
   "source": [
    "skim_generator = nx.all_pairs_dijkstra_path_length(G, weight = 'length') \n",
    "skim_dict = dict(skim_generator) #filled dict is more usable\n",
    "skim = pd.DataFrame(skim_dict).T # and dataframe is more intuitive\n",
    "skim = skim.sort_index()\n",
    "skim = skim.T.sort_index()\n",
    "skim = skim.T\n",
    "inData.skim = skim\n",
    "inData.stats['center']=0"
   ]
  },
  {
   "cell_type": "code",
   "execution_count": 12,
   "metadata": {},
   "outputs": [
    {
     "data": {
      "image/png": "[encoded data removed]",
      "text/plain": [
       "<Figure size 432x288 with 1 Axes>"
      ]
     },
     "metadata": {},
     "output_type": "display_data"
    }
   ],
   "source": [
    "nx.draw(G)"
   ]
  },
  {
   "cell_type": "markdown",
   "metadata": {},
   "source": [
    "make requests"
   ]
  },
  {
   "cell_type": "code",
   "execution_count": 13,
   "metadata": {},
   "outputs": [
    {
     "data": {
      "text/html": [
       "<div>\n",
       "<style scoped>\n",
       "    .dataframe tbody tr th:only-of-type {\n",
       "        vertical-align: middle;\n",
       "    }\n",
       "\n",
       "    .dataframe tbody tr th {\n",
       "        vertical-align: top;\n",
       "    }\n",
       "\n",
       "    .dataframe thead th {\n",
       "        text-align: right;\n",
       "    }\n",
       "</style>\n",
       "<table border=\"1\" class=\"dataframe\">\n",
       "  <thead>\n",
       "    <tr style=\"text-align: right;\">\n",
       "      <th></th>\n",
       "      <th>origin</th>\n",
       "      <th>destination</th>\n",
       "      <th>treq</th>\n",
       "      <th>tdep</th>\n",
       "      <th>ttrav</th>\n",
       "      <th>tarr</th>\n",
       "      <th>tdrop</th>\n",
       "      <th>dist</th>\n",
       "      <th>pax_id</th>\n",
       "    </tr>\n",
       "  </thead>\n",
       "  <tbody>\n",
       "    <tr>\n",
       "      <th>6</th>\n",
       "      <td>100</td>\n",
       "      <td>200</td>\n",
       "      <td>2020-07-03 15:00:00</td>\n",
       "      <td>NaN</td>\n",
       "      <td>02:48:20</td>\n",
       "      <td>2020-07-03 13:57:56.573313</td>\n",
       "      <td>NaN</td>\n",
       "      <td>10100</td>\n",
       "      <td>6</td>\n",
       "    </tr>\n",
       "    <tr>\n",
       "      <th>3</th>\n",
       "      <td>101</td>\n",
       "      <td>201</td>\n",
       "      <td>2020-07-03 15:00:05</td>\n",
       "      <td>NaN</td>\n",
       "      <td>02:48:20</td>\n",
       "      <td>2020-07-03 14:11:41.573313</td>\n",
       "      <td>NaN</td>\n",
       "      <td>10100</td>\n",
       "      <td>3</td>\n",
       "    </tr>\n",
       "    <tr>\n",
       "      <th>1</th>\n",
       "      <td>102</td>\n",
       "      <td>202</td>\n",
       "      <td>2020-07-03 15:00:10</td>\n",
       "      <td>NaN</td>\n",
       "      <td>02:48:20</td>\n",
       "      <td>2020-07-03 14:14:22.573313</td>\n",
       "      <td>NaN</td>\n",
       "      <td>10100</td>\n",
       "      <td>1</td>\n",
       "    </tr>\n",
       "    <tr>\n",
       "      <th>4</th>\n",
       "      <td>103</td>\n",
       "      <td>203</td>\n",
       "      <td>2020-07-03 15:00:15</td>\n",
       "      <td>NaN</td>\n",
       "      <td>02:48:20</td>\n",
       "      <td>2020-07-03 14:16:34.573313</td>\n",
       "      <td>NaN</td>\n",
       "      <td>10100</td>\n",
       "      <td>4</td>\n",
       "    </tr>\n",
       "    <tr>\n",
       "      <th>5</th>\n",
       "      <td>104</td>\n",
       "      <td>204</td>\n",
       "      <td>2020-07-03 15:00:20</td>\n",
       "      <td>NaN</td>\n",
       "      <td>02:48:20</td>\n",
       "      <td>2020-07-03 14:18:43.573313</td>\n",
       "      <td>NaN</td>\n",
       "      <td>10100</td>\n",
       "      <td>5</td>\n",
       "    </tr>\n",
       "  </tbody>\n",
       "</table>\n",
       "</div>"
      ],
      "text/plain": [
       "   origin  destination                treq tdep    ttrav  \\\n",
       "6     100          200 2020-07-03 15:00:00  NaN 02:48:20   \n",
       "3     101          201 2020-07-03 15:00:05  NaN 02:48:20   \n",
       "1     102          202 2020-07-03 15:00:10  NaN 02:48:20   \n",
       "4     103          203 2020-07-03 15:00:15  NaN 02:48:20   \n",
       "5     104          204 2020-07-03 15:00:20  NaN 02:48:20   \n",
       "\n",
       "                        tarr tdrop   dist  pax_id  \n",
       "6 2020-07-03 13:57:56.573313   NaN  10100       6  \n",
       "3 2020-07-03 14:11:41.573313   NaN  10100       3  \n",
       "1 2020-07-03 14:14:22.573313   NaN  10100       1  \n",
       "4 2020-07-03 14:16:34.573313   NaN  10100       4  \n",
       "5 2020-07-03 14:18:43.573313   NaN  10100       5  "
      ]
     },
     "execution_count": 13,
     "metadata": {},
     "output_type": "execute_result"
    }
   ],
   "source": [
    "inData = ExMAS.utils.generate_demand(inData, params)\n",
    "inData.requests.sort_index()\n",
    "inData.requests.origin=list(range(100,100+params.nP))\n",
    "inData.requests.destination=list(range(200,200+params.nP))\n",
    "inData.requests.treq\n",
    "params.t0 = pd.to_datetime('15:00')\n",
    "inData.requests.treq = [params.t0+pd.Timedelta(str(5*i)+'s') for i in range(params.nP)]\n",
    "inData.requests['dist'] = inData.requests.apply(lambda request: \n",
    "                                                inData.skim.loc[request.origin,request.destination],axis=1)\n",
    "inData.requests['ttrav'] = inData.requests.apply(lambda request: pd.Timedelta(request.dist,'s').floor('s'),axis=1)\n",
    "inData.requests.head()"
   ]
  },
  {
   "cell_type": "markdown",
   "metadata": {},
   "source": [
    "## Calc shareability\n",
    "---"
   ]
  },
  {
   "cell_type": "code",
   "execution_count": 14,
   "metadata": {},
   "outputs": [
    {
     "name": "stdout",
     "output_type": "stream",
     "text": [
      "03-07-20 14:10:34-INFO-Initializing pairwise trip shareability between 6 and 6 trips.\n",
      "03-07-20 14:10:34-INFO-creating combinations\n",
      "03-07-20 14:10:34-INFO-30\t nR*(nR-1)\n",
      "03-07-20 14:10:34-INFO-30\tdeparture compatibility\n",
      "03-07-20 14:10:34-INFO-30\torigins shareability\n",
      "03-07-20 14:10:34-INFO-30\tutility for i\n",
      "03-07-20 14:10:34-INFO-30\tutility for j\n",
      "03-07-20 14:10:34-INFO-30\tLIFO pairs\n",
      "03-07-20 14:10:34-INFO-Reduction of feasible pairs by 0.00%\n"
     ]
    },
    {
     "data": {
      "image/png": "[encoded data removed]",
      "text/plain": [
       "<Figure size 1152x288 with 4 Axes>"
      ]
     },
     "metadata": {
      "needs_background": "light"
     },
     "output_type": "display_data"
    },
    {
     "data": {
      "image/png": "[encoded data removed]",
      "text/plain": [
       "<Figure size 288x288 with 1 Axes>"
      ]
     },
     "metadata": {
      "needs_background": "light"
     },
     "output_type": "display_data"
    },
    {
     "name": "stdout",
     "output_type": "stream",
     "text": [
      "03-07-20 14:10:34-INFO-Degree 2 \tCompleted\n",
      "03-07-20 14:10:34-INFO-trips to extend at degree 2 : 60\n",
      "03-07-20 14:10:35-INFO-At degree 2 feasible extensions found out of 240 searched\n",
      "03-07-20 14:10:35-INFO-Degree 3 \tCompleted\n",
      "03-07-20 14:10:35-INFO-trips to extend at degree 3 : 240\n",
      "03-07-20 14:10:36-INFO-At degree 3 feasible extensions found out of 720 searched\n",
      "03-07-20 14:10:36-INFO-Degree 4 \tCompleted\n",
      "03-07-20 14:10:36-INFO-trips to extend at degree 4 : 720\n",
      "03-07-20 14:10:38-INFO-At degree 4 feasible extensions found out of 1440 searched\n",
      "03-07-20 14:10:38-INFO-Degree 5 \tCompleted\n",
      "03-07-20 14:10:38-INFO-trips to extend at degree 5 : 1440\n",
      "03-07-20 14:10:41-INFO-At degree 5 feasible extensions found out of 1440 searched\n",
      "03-07-20 14:10:41-INFO-Degree 6 \tCompleted\n",
      "03-07-20 14:10:41-INFO-trips to extend at degree 6 : 1440\n",
      "03-07-20 14:10:41-INFO-At degree 6 feasible extensions found out of 0 searched\n",
      "03-07-20 14:10:41-INFO-Degree 7 \tCompleted\n",
      "03-07-20 14:10:41-INFO-Max degree reached 7\n",
      "03-07-20 14:10:41-INFO-Trips still possible to extend at degree 7 : 0\n",
      "03-07-20 14:10:49-INFO-Matching 6 trips to 3906 rides in order to minimize u_veh\n"
     ]
    },
    {
     "data": {
      "image/png": "[encoded data removed]",
      "text/plain": [
       "<Figure size 1440x216 with 1 Axes>"
      ]
     },
     "metadata": {
      "needs_background": "light"
     },
     "output_type": "display_data"
    },
    {
     "name": "stdout",
     "output_type": "stream",
     "text": [
      "03-07-20 14:10:50-INFO-Problem solution: Optimal. \n",
      "Total costs for single trips:          7,572 \n",
      "reduced by matching to:                1,682\n",
      "03-07-20 14:10:50-INFO-Calculations  completed\n",
      "03-07-20 14:10:50-INFO-DotMap(VehHourTrav=1682, VehHourTrav_ns=7572, PassHourTrav=8832, PassHourTrav_ns=7572, PassUtility=79.8189, PassUtility_ns=87.10199999999999, mean_lambda=0.7778658214474379, revenue_s=5300.4, revenue_ns=7572, Fare_Discount=-0.30000000000000004, nR=6, SINGLE=0, PAIRS=0, TRIPLES=0, QUADRIPLES=0, QUINTETS=0, PLUS5=1, shared_ratio=1.0, fleet_size_nonshared=6.0, fleet_size_shared=1.0, lambda_shared=0.7778658214474379)\n"
     ]
    },
    {
     "data": {
      "image/png": "[encoded data removed]",
      "text/plain": [
       "<Figure size 1440x216 with 1 Axes>"
      ]
     },
     "metadata": {
      "needs_background": "light"
     },
     "output_type": "display_data"
    }
   ],
   "source": [
    "params.max_degree = 7\n",
    "params.pax_delay=60\n",
    "inData = ExMAS.main(inData,params, plot=True)"
   ]
  },
  {
   "cell_type": "code",
   "execution_count": 15,
   "metadata": {},
   "outputs": [
    {
     "data": {
      "text/html": [
       "<div>\n",
       "<style scoped>\n",
       "    .dataframe tbody tr th:only-of-type {\n",
       "        vertical-align: middle;\n",
       "    }\n",
       "\n",
       "    .dataframe tbody tr th {\n",
       "        vertical-align: top;\n",
       "    }\n",
       "\n",
       "    .dataframe thead th {\n",
       "        text-align: right;\n",
       "    }\n",
       "</style>\n",
       "<table border=\"1\" class=\"dataframe\">\n",
       "  <thead>\n",
       "    <tr style=\"text-align: right;\">\n",
       "      <th></th>\n",
       "      <th>VehHourTrav</th>\n",
       "      <th>VehHourTrav_ns</th>\n",
       "      <th>PassHourTrav</th>\n",
       "      <th>PassHourTrav_ns</th>\n",
       "      <th>PassUtility</th>\n",
       "      <th>PassUtility_ns</th>\n",
       "      <th>mean_lambda</th>\n",
       "      <th>revenue_s</th>\n",
       "      <th>revenue_ns</th>\n",
       "      <th>Fare_Discount</th>\n",
       "      <th>...</th>\n",
       "      <th>TRIPLES</th>\n",
       "      <th>QUADRIPLES</th>\n",
       "      <th>QUINTETS</th>\n",
       "      <th>PLUS5</th>\n",
       "      <th>shared_ratio</th>\n",
       "      <th>fleet_size_nonshared</th>\n",
       "      <th>fleet_size_shared</th>\n",
       "      <th>lambda_shared</th>\n",
       "      <th>_typ</th>\n",
       "      <th>dtype</th>\n",
       "    </tr>\n",
       "  </thead>\n",
       "  <tbody>\n",
       "    <tr>\n",
       "      <th>0</th>\n",
       "      <td>1682</td>\n",
       "      <td>7572</td>\n",
       "      <td>8832</td>\n",
       "      <td>7572</td>\n",
       "      <td>79.819</td>\n",
       "      <td>87.102</td>\n",
       "      <td>0.778</td>\n",
       "      <td>5300.400</td>\n",
       "      <td>7572</td>\n",
       "      <td>-0.300</td>\n",
       "      <td>...</td>\n",
       "      <td>0</td>\n",
       "      <td>0</td>\n",
       "      <td>0</td>\n",
       "      <td>1</td>\n",
       "      <td>1.000</td>\n",
       "      <td>6.000</td>\n",
       "      <td>1.000</td>\n",
       "      <td>0.778</td>\n",
       "      <td>DotMap(_typ=DotMap(), __next__=DotMap())</td>\n",
       "      <td>DotMap(_typ=DotMap(), __next__=DotMap())</td>\n",
       "    </tr>\n",
       "  </tbody>\n",
       "</table>\n",
       "<p>1 rows × 23 columns</p>\n",
       "</div>"
      ],
      "text/plain": [
       "  VehHourTrav VehHourTrav_ns PassHourTrav PassHourTrav_ns PassUtility  \\\n",
       "0        1682           7572         8832            7572      79.819   \n",
       "\n",
       "  PassUtility_ns mean_lambda revenue_s revenue_ns Fare_Discount  ... TRIPLES  \\\n",
       "0         87.102       0.778  5300.400       7572        -0.300  ...       0   \n",
       "\n",
       "  QUADRIPLES QUINTETS PLUS5 shared_ratio fleet_size_nonshared  \\\n",
       "0          0        0     1        1.000                6.000   \n",
       "\n",
       "  fleet_size_shared lambda_shared                                      _typ  \\\n",
       "0             1.000         0.778  DotMap(_typ=DotMap(), __next__=DotMap())   \n",
       "\n",
       "                                      dtype  \n",
       "0  DotMap(_typ=DotMap(), __next__=DotMap())  \n",
       "\n",
       "[1 rows x 23 columns]"
      ]
     },
     "execution_count": 15,
     "metadata": {},
     "output_type": "execute_result"
    }
   ],
   "source": [
    "inData.sblts.res.to_frame().T"
   ]
  },
  {
   "cell_type": "code",
   "execution_count": 16,
   "metadata": {},
   "outputs": [
    {
     "data": {
      "text/html": [
       "<div>\n",
       "<style scoped>\n",
       "    .dataframe tbody tr th:only-of-type {\n",
       "        vertical-align: middle;\n",
       "    }\n",
       "\n",
       "    .dataframe tbody tr th {\n",
       "        vertical-align: top;\n",
       "    }\n",
       "\n",
       "    .dataframe thead th {\n",
       "        text-align: right;\n",
       "    }\n",
       "</style>\n",
       "<table border=\"1\" class=\"dataframe\">\n",
       "  <thead>\n",
       "    <tr style=\"text-align: right;\">\n",
       "      <th></th>\n",
       "      <th>indexes</th>\n",
       "      <th>u_pax</th>\n",
       "      <th>u_veh</th>\n",
       "      <th>kind</th>\n",
       "      <th>u_paxes</th>\n",
       "      <th>times</th>\n",
       "      <th>indexes_orig</th>\n",
       "      <th>indexes_dest</th>\n",
       "      <th>degree</th>\n",
       "      <th>index</th>\n",
       "      <th>lambda_r</th>\n",
       "      <th>PassHourTrav_ns</th>\n",
       "      <th>row</th>\n",
       "      <th>selected</th>\n",
       "    </tr>\n",
       "  </thead>\n",
       "  <tbody>\n",
       "    <tr>\n",
       "      <th>3627</th>\n",
       "      <td>[3, 4, 1, 2, 5, 0]</td>\n",
       "      <td>79.819</td>\n",
       "      <td>1682</td>\n",
       "      <td>100</td>\n",
       "      <td>[14.241587500000001, 13.947062500000001, 13.25...</td>\n",
       "      <td>[11.5, 72, 72, 72, 72, 72, 1262, 12, 12, 12, 1...</td>\n",
       "      <td>[3, 4, 1, 2, 5, 0]</td>\n",
       "      <td>[4, 3, 1, 2, 5, 0]</td>\n",
       "      <td>6</td>\n",
       "      <td>3627</td>\n",
       "      <td>0.778</td>\n",
       "      <td>7572</td>\n",
       "      <td>[1.0, 1.0, 1.0, 1.0, 1.0, 1.0]</td>\n",
       "      <td>1</td>\n",
       "    </tr>\n",
       "  </tbody>\n",
       "</table>\n",
       "</div>"
      ],
      "text/plain": [
       "                 indexes  u_pax u_veh kind  \\\n",
       "3627  [3, 4, 1, 2, 5, 0] 79.819  1682  100   \n",
       "\n",
       "                                                u_paxes  \\\n",
       "3627  [14.241587500000001, 13.947062500000001, 13.25...   \n",
       "\n",
       "                                                  times        indexes_orig  \\\n",
       "3627  [11.5, 72, 72, 72, 72, 72, 1262, 12, 12, 12, 1...  [3, 4, 1, 2, 5, 0]   \n",
       "\n",
       "            indexes_dest  degree  index  lambda_r  PassHourTrav_ns  \\\n",
       "3627  [4, 3, 1, 2, 5, 0]       6   3627     0.778             7572   \n",
       "\n",
       "                                 row  selected  \n",
       "3627  [1.0, 1.0, 1.0, 1.0, 1.0, 1.0]         1  "
      ]
     },
     "execution_count": 16,
     "metadata": {},
     "output_type": "execute_result"
    }
   ],
   "source": [
    "inData.sblts.schedule"
   ]
  },
  {
   "cell_type": "code",
   "execution_count": 17,
   "metadata": {},
   "outputs": [
    {
     "data": {
      "text/plain": [
       "(3906, 14)"
      ]
     },
     "execution_count": 17,
     "metadata": {},
     "output_type": "execute_result"
    }
   ],
   "source": [
    "inData.sblts.rides.shape"
   ]
  },
  {
   "cell_type": "markdown",
   "metadata": {},
   "source": [
    "---\n",
    "(c) Rafał Kucharski, Delft, 2020"
   ]
  }
 ],
 "metadata": {
  "kernelspec": {
   "display_name": "Python 3",
   "language": "python",
   "name": "python3"
  },
  "language_info": {
   "codemirror_mode": {
    "name": "ipython",
    "version": 3
   },
   "file_extension": ".py",
   "mimetype": "text/x-python",
   "name": "python",
   "nbconvert_exporter": "python",
   "pygments_lexer": "ipython3",
   "version": "3.7.6"
  }
 },
 "nbformat": 4,
 "nbformat_minor": 4
}
