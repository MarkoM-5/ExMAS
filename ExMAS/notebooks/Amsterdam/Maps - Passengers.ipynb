{
 "cells": [
  {
   "cell_type": "code",
   "execution_count": 1,
   "metadata": {},
   "outputs": [],
   "source": [
    "import pandas as pd\n",
    "import numpy as np\n",
    "import geopandas as gpd\n",
    "import folium\n",
    "from shapely.geometry import Polygon, Point, LineString\n",
    "import pandas as pd\n",
    "import geopandas as gpd\n",
    "import folium\n",
    "from IPython.display import Image\n",
    "import selenium.webdriver\n",
    "import shapely.geometry\n",
    "import osmnx as ox\n",
    "import pyproj\n",
    "from geojson.feature import Feature, FeatureCollection\n",
    "from shapely.geometry import Point, Polygon, LineString\n",
    "import h3\n",
    "import json\n",
    "import branca.colormap as cmp\n",
    "import glob\n",
    "from statistics import *"
   ]
  },
  {
   "cell_type": "code",
   "execution_count": 2,
   "metadata": {},
   "outputs": [],
   "source": [
    "import os\n",
    "cwd = os.getcwd()\n",
    "os.chdir(os.path.join(cwd,'..\\..\\..'))\n",
    "import ExMAS.main\n",
    "import ExMAS.utils\n",
    "\n",
    "from ExMAS.utils import inData as inData"
   ]
  },
  {
   "cell_type": "code",
   "execution_count": 3,
   "metadata": {},
   "outputs": [],
   "source": [
    "def ride_finder(dem, disc):\n",
    "    dem = \"_\"+str(dem)+\"_\"\n",
    "    disc= \"_\"+str(disc).replace(\".\",\"\")+\"_\"\n",
    "    rides = glob.glob('ExMAS/data/results/rides/*.csv', recursive=True)\n",
    "    rides  = [s for s in rides if dem in s]\n",
    "    rides = [s for s in rides if disc in s]\n",
    "    return rides[0]\n",
    "\n",
    "def req_finder(dem, disc):\n",
    "    dem = \"_\"+str(dem)+\"_\"\n",
    "    disc= \"_\"+str(disc).replace(\".\",\"\")+\"_\"\n",
    "    req = glob.glob('ExMAS/data/results/requests/*.csv', recursive=True)\n",
    "    req  = [s for s in req if dem in s]\n",
    "    req = [s for s in req if disc in s]\n",
    "    return req[0]\n",
    "    "
   ]
  },
  {
   "cell_type": "code",
   "execution_count": 4,
   "metadata": {},
   "outputs": [],
   "source": [
    "def plot_hex_map(inData,res,dem,disc, APERTURE_SIZE = 8, threshold = 1, col = 'u_diff'):\n",
    "    res['hex_o_{}'.format(APERTURE_SIZE)] = res.apply(lambda row: h3.geo_to_h3(row.y,row.x,APERTURE_SIZE),axis = 1) \n",
    "    trips = res\n",
    "    \n",
    "    col_geom = 'hex_o_{}'.format(APERTURE_SIZE)\n",
    "    hexes = pd.Series(list(set(list(trips[col_geom].unique())+list(trips[col_geom].unique())))).to_frame(col_geom)\n",
    "    hexes = hexes.set_index(col_geom)\n",
    "    hexes[col_geom] = hexes.index.copy()\n",
    "    hexes['nobs'] = trips.groupby(col_geom).size()\n",
    "    hexes = hexes[hexes['nobs']>threshold]\n",
    "    hexes['geom'] = hexes.apply(lambda x: {\"type\": \"Polygon\",\"coordinates\": [h3.h3_to_geo_boundary(h = x[col_geom], geo_json = True)]}, axis = 1)\n",
    "    aggr = trips.groupby(col_geom)[col]\n",
    "    hexes['nobs'] = aggr.size()\n",
    "    hexes[col] = aggr.mean()\n",
    "    hexes[col+'_std'] = aggr.std()\n",
    "    list_features = []\n",
    "    for i, row in hexes.iterrows():\n",
    "        feature = Feature(geometry = row[\"geom\"],\n",
    "                          id = row[col_geom],\n",
    "                          properties = {\"resolution\": 9})\n",
    "        list_features.append(feature)\n",
    "\n",
    "    feat_collection = FeatureCollection(list_features)\n",
    "    geojson_hexes = json.dumps(feat_collection)\n",
    "    CENTER = list(inData.nodes.loc[inData.stats.center][['y','x']].values)\n",
    "    tile = 'cartodbpositron'\n",
    "    linear = cmp.LinearColormap(['red', 'yellow', 'green'],vmin=min(res[col]), \n",
    "                                vmax=max(res[col]),caption='Color Scale for Map') #Caption for Color scale or Legend\n",
    "    base_map = folium.Map(location=CENTER, zoom_start=12,tiles=tile, zoomControl =  False)\n",
    "    bins = [-0.1,0,0.0025*max(res[col]),0.005*max(res[col]),0.01*max(res[col]),0.05*max(res[col])]\n",
    "            \n",
    "    m = folium.Choropleth(geo_data = geojson_hexes,data = hexes, columns = [col_geom,col],key_on =\"feature.id\",\n",
    "            fill_color='BuPu', control = False,\n",
    "            fill_opacity=0.7, line_opacity=0.1,legend_name=col+\" for demand {} at discount {}\".format(dem,disc)).add_to(base_map)\n",
    "    '''m = folium.Choropleth(geo_data = geojson_hexes,data = hexes, columns = [col_geom,col],key_on =\"feature.id\",\n",
    "            fill_color=linear, control = False,\n",
    "            fill_opacity=0.7, line_opacity=0.1,legend_name=col).add_to(base_map)'''\n",
    "    m.save('map.html')\n",
    "    return base_map\n",
    "    "
   ]
  },
  {
   "cell_type": "code",
   "execution_count": 5,
   "metadata": {},
   "outputs": [],
   "source": [
    "params = ExMAS.utils.get_config('ExMAS/data/configs/my_config.json') # load the default "
   ]
  },
  {
   "cell_type": "code",
   "execution_count": null,
   "metadata": {},
   "outputs": [],
   "source": [
    "inData = ExMAS.utils.load_G(inData, params, stats=True)  # download the graph"
   ]
  },
  {
   "cell_type": "code",
   "execution_count": null,
   "metadata": {},
   "outputs": [],
   "source": [
    "inData = ExMAS.utils.load_albatross_csv(inData, params, sample=True)"
   ]
  },
  {
   "cell_type": "code",
   "execution_count": null,
   "metadata": {},
   "outputs": [],
   "source": [
    "demand = 3000\n",
    "discount   = 0.15\n",
    "ride_finder(demand,discount)"
   ]
  },
  {
   "cell_type": "code",
   "execution_count": null,
   "metadata": {},
   "outputs": [],
   "source": [
    "df_ride = pd.read_csv(ride_finder(demand,discount))\n",
    "df_req  = pd.read_csv(req_finder(demand,discount))"
   ]
  },
  {
   "cell_type": "code",
   "execution_count": null,
   "metadata": {},
   "outputs": [],
   "source": [
    "resop = pd.DataFrame(columns=['lambda_r','u_veh','u_veh_ns', 'index_origin','index_dest','origin','destination'])\n",
    "resop = resop.fillna(0)\n",
    "\n",
    "\n",
    "\n",
    "for i in range(len(df_ride)):\n",
    "    a = df_ride['lambda_r'].iloc[i]\n",
    "    b = json.loads(df_ride['indexes_orig'].iloc[i])\n",
    "    c = df_req['origin']\n",
    "    d = df_req['destination']\n",
    "    e = df_ride['u_veh'].iloc[i]\n",
    "    f = df_ride['PassHourTrav_ns'].iloc[i]\n",
    "    g = json.loads(df_ride['indexes_dest'].iloc[i])\n",
    "    h = df_ride['kind'].iloc[i]\n",
    "    if 20<=h<30:\n",
    "        h=2\n",
    "    elif 30<=h<40:\n",
    "        h=3\n",
    "    elif 40<=h<50:\n",
    "        h=4\n",
    "    elif h>=50:\n",
    "        h=5\n",
    "    else:\n",
    "        h=1\n",
    "    for j in range(len(b)):\n",
    "        resop = resop.append({'lambda_r':a,'u_veh':e,'u_veh_ns':f,'index_origin':b[j],'index_dest':g[j],\\\n",
    "                              'origin':c[b[j]],'destination':d[g[j]],'x':c[b[j]],'y':c[b[j]],'degree':h},ignore_index=True)\n",
    "        \n",
    "resop['lam_diff'] = resop['lambda_r']\n",
    "resop['u_diff']   = resop['u_veh']-resop['u_veh_ns']\n",
    "resop['x'] = resop['x'].apply(lambda row: inData.nodes.loc[row].x)\n",
    "resop['y'] = resop['y'].apply(lambda row: inData.nodes.loc[row].y)\n",
    "\n",
    "\n",
    "resop_s = resop[resop['degree']>1]           #filter only sharing rides"
   ]
  },
  {
   "cell_type": "code",
   "execution_count": null,
   "metadata": {},
   "outputs": [],
   "source": [
    "mean(resop['degree'])"
   ]
  },
  {
   "cell_type": "code",
   "execution_count": null,
   "metadata": {},
   "outputs": [],
   "source": [
    "linear = cmp.LinearColormap(['red', 'yellow', 'green'],vmin=min(resop['lambda_r']), vmax=max(resop['lambda_r']),caption='Color Scale for Map')\n",
    "#style_function=lambda feature: \n",
    " #                           'fillColor': linear(resop[feature['lambda_r']]),\n",
    "colour = resop['lambda_r'].apply(lambda x: linear(x))"
   ]
  },
  {
   "cell_type": "markdown",
   "metadata": {},
   "source": [
    "# Discount = 0.15"
   ]
  },
  {
   "cell_type": "code",
   "execution_count": null,
   "metadata": {},
   "outputs": [],
   "source": [
    "plot_hex_map(inData, resop_s,demand,discount, APERTURE_SIZE = 8, col = 'lambda_r')"
   ]
  },
  {
   "cell_type": "markdown",
   "metadata": {},
   "source": [
    "# Discount = 0.2"
   ]
  },
  {
   "cell_type": "code",
   "execution_count": null,
   "metadata": {},
   "outputs": [],
   "source": [
    "discount   = 0.2\n",
    "ride_finder(demand,discount)"
   ]
  },
  {
   "cell_type": "code",
   "execution_count": null,
   "metadata": {},
   "outputs": [],
   "source": [
    "df_ride = pd.read_csv(ride_finder(demand,discount))\n",
    "df_req  = pd.read_csv(req_finder(demand,discount))"
   ]
  },
  {
   "cell_type": "code",
   "execution_count": null,
   "metadata": {},
   "outputs": [],
   "source": [
    "resop = pd.DataFrame(columns=['lambda_r','u_veh','u_veh_ns', 'index_origin','index_dest','origin','destination'])\n",
    "resop = resop.fillna(0)\n",
    "\n",
    "\n",
    "\n",
    "for i in range(len(df_ride)):\n",
    "    a = df_ride['lambda_r'].iloc[i]\n",
    "    b = json.loads(df_ride['indexes_orig'].iloc[i])\n",
    "    c = df_req['origin']\n",
    "    d = df_req['destination']\n",
    "    e = df_ride['u_veh'].iloc[i]\n",
    "    f = df_ride['PassHourTrav_ns'].iloc[i]\n",
    "    g = json.loads(df_ride['indexes_dest'].iloc[i])\n",
    "    h = df_ride['kind'].iloc[i]\n",
    "    if 20<=h<30:\n",
    "        h=2\n",
    "    elif 30<=h<40:\n",
    "        h=3\n",
    "    elif 40<=h<50:\n",
    "        h=4\n",
    "    elif h>=50:\n",
    "        h=5\n",
    "    else:\n",
    "        h=1\n",
    "    for j in range(len(b)):\n",
    "        resop = resop.append({'lambda_r':a,'u_veh':e,'u_veh_ns':f,'index_origin':b[j],'index_dest':g[j],\\\n",
    "                              'origin':c[b[j]],'destination':d[g[j]],'x':c[b[j]],'y':c[b[j]],'degree':h},ignore_index=True)\n",
    "        \n",
    "resop['lam_diff'] = resop['lambda_r']\n",
    "resop['u_diff']   = resop['u_veh']-resop['u_veh_ns']\n",
    "resop['x'] = resop['x'].apply(lambda row: inData.nodes.loc[row].x)\n",
    "resop['y'] = resop['y'].apply(lambda row: inData.nodes.loc[row].y)\n",
    "\n",
    "\n",
    "resop_s = resop[resop['degree']>1]           #filter only sharing rides"
   ]
  },
  {
   "cell_type": "code",
   "execution_count": null,
   "metadata": {},
   "outputs": [],
   "source": [
    "plot_hex_map(inData, resop_s,demand,discount, APERTURE_SIZE = 8, col = 'lambda_r')"
   ]
  },
  {
   "cell_type": "markdown",
   "metadata": {},
   "source": [
    "# Discount = 0.25"
   ]
  },
  {
   "cell_type": "code",
   "execution_count": null,
   "metadata": {},
   "outputs": [],
   "source": [
    "discount   = 0.25\n",
    "ride_finder(demand,discount)"
   ]
  },
  {
   "cell_type": "code",
   "execution_count": null,
   "metadata": {},
   "outputs": [],
   "source": [
    "df_ride = pd.read_csv(ride_finder(demand,discount))\n",
    "df_req  = pd.read_csv(req_finder(demand,discount))"
   ]
  },
  {
   "cell_type": "code",
   "execution_count": null,
   "metadata": {},
   "outputs": [],
   "source": [
    "resop = pd.DataFrame(columns=['lambda_r','u_veh','u_veh_ns', 'index_origin','index_dest','origin','destination'])\n",
    "resop = resop.fillna(0)\n",
    "\n",
    "\n",
    "\n",
    "for i in range(len(df_ride)):\n",
    "    a = df_ride['lambda_r'].iloc[i]\n",
    "    b = json.loads(df_ride['indexes_orig'].iloc[i])\n",
    "    c = df_req['origin']\n",
    "    d = df_req['destination']\n",
    "    e = df_ride['u_veh'].iloc[i]\n",
    "    f = df_ride['PassHourTrav_ns'].iloc[i]\n",
    "    g = json.loads(df_ride['indexes_dest'].iloc[i])\n",
    "    h = df_ride['kind'].iloc[i]\n",
    "    if 20<=h<30:\n",
    "        h=2\n",
    "    elif 30<=h<40:\n",
    "        h=3\n",
    "    elif 40<=h<50:\n",
    "        h=4\n",
    "    elif h>=50:\n",
    "        h=5\n",
    "    else:\n",
    "        h=1\n",
    "    for j in range(len(b)):\n",
    "        resop = resop.append({'lambda_r':a,'u_veh':e,'u_veh_ns':f,'index_origin':b[j],'index_dest':g[j],\\\n",
    "                              'origin':c[b[j]],'destination':d[g[j]],'x':c[b[j]],'y':c[b[j]],'degree':h},ignore_index=True)\n",
    "        \n",
    "resop['lam_diff'] = resop['lambda_r']\n",
    "resop['u_diff']   = resop['u_veh']-resop['u_veh_ns']\n",
    "resop['x'] = resop['x'].apply(lambda row: inData.nodes.loc[row].x)\n",
    "resop['y'] = resop['y'].apply(lambda row: inData.nodes.loc[row].y)\n",
    "\n",
    "\n",
    "resop_s = resop[resop['degree']>1]           #filter only sharing rides"
   ]
  },
  {
   "cell_type": "code",
   "execution_count": null,
   "metadata": {},
   "outputs": [],
   "source": [
    "plot_hex_map(inData, resop_s,demand,discount, APERTURE_SIZE = 8, col = 'lambda_r')"
   ]
  },
  {
   "cell_type": "markdown",
   "metadata": {},
   "source": [
    "# Discount = 0.3"
   ]
  },
  {
   "cell_type": "code",
   "execution_count": null,
   "metadata": {},
   "outputs": [],
   "source": [
    "discount   = 0.3\n",
    "ride_finder(demand,discount)"
   ]
  },
  {
   "cell_type": "code",
   "execution_count": null,
   "metadata": {},
   "outputs": [],
   "source": [
    "df_ride = pd.read_csv(ride_finder(demand,discount))\n",
    "df_req  = pd.read_csv(req_finder(demand,discount))"
   ]
  },
  {
   "cell_type": "code",
   "execution_count": null,
   "metadata": {},
   "outputs": [],
   "source": [
    "resop = pd.DataFrame(columns=['lambda_r','u_veh','u_veh_ns', 'index_origin','index_dest','origin','destination'])\n",
    "resop = resop.fillna(0)\n",
    "\n",
    "\n",
    "\n",
    "for i in range(len(df_ride)):\n",
    "    a = df_ride['lambda_r'].iloc[i]\n",
    "    b = json.loads(df_ride['indexes_orig'].iloc[i])\n",
    "    c = df_req['origin']\n",
    "    d = df_req['destination']\n",
    "    e = df_ride['u_veh'].iloc[i]\n",
    "    f = df_ride['PassHourTrav_ns'].iloc[i]\n",
    "    g = json.loads(df_ride['indexes_dest'].iloc[i])\n",
    "    h = df_ride['kind'].iloc[i]\n",
    "    if 20<=h<30:\n",
    "        h=2\n",
    "    elif 30<=h<40:\n",
    "        h=3\n",
    "    elif 40<=h<50:\n",
    "        h=4\n",
    "    elif h>=50:\n",
    "        h=5\n",
    "    else:\n",
    "        h=1\n",
    "    for j in range(len(b)):\n",
    "        resop = resop.append({'lambda_r':a,'u_veh':e,'u_veh_ns':f,'index_origin':b[j],'index_dest':g[j],\\\n",
    "                              'origin':c[b[j]],'destination':d[g[j]],'x':c[b[j]],'y':c[b[j]],'degree':h},ignore_index=True)\n",
    "        \n",
    "resop['lam_diff'] = resop['lambda_r']\n",
    "resop['u_diff']   = resop['u_veh']-resop['u_veh_ns']\n",
    "resop['x'] = resop['x'].apply(lambda row: inData.nodes.loc[row].x)\n",
    "resop['y'] = resop['y'].apply(lambda row: inData.nodes.loc[row].y)\n",
    "\n",
    "\n",
    "resop_s = resop[resop['degree']>1]           #filter only sharing rides"
   ]
  },
  {
   "cell_type": "code",
   "execution_count": null,
   "metadata": {},
   "outputs": [],
   "source": [
    "plot_hex_map(inData, resop_s,demand,discount, APERTURE_SIZE = 8, col = 'lambda_r)"
   ]
  },
  {
   "cell_type": "markdown",
   "metadata": {},
   "source": [
    "# Discount = 0.35"
   ]
  },
  {
   "cell_type": "code",
   "execution_count": null,
   "metadata": {},
   "outputs": [],
   "source": [
    "discount   = 0.35\n",
    "ride_finder(demand,discount)"
   ]
  },
  {
   "cell_type": "code",
   "execution_count": null,
   "metadata": {},
   "outputs": [],
   "source": [
    "df_ride = pd.read_csv(ride_finder(demand,discount))\n",
    "df_req  = pd.read_csv(req_finder(demand,discount))"
   ]
  },
  {
   "cell_type": "code",
   "execution_count": null,
   "metadata": {},
   "outputs": [],
   "source": [
    "resop = pd.DataFrame(columns=['lambda_r','u_veh','u_veh_ns', 'index_origin','index_dest','origin','destination'])\n",
    "resop = resop.fillna(0)\n",
    "\n",
    "\n",
    "\n",
    "for i in range(len(df_ride)):\n",
    "    a = df_ride['lambda_r'].iloc[i]\n",
    "    b = json.loads(df_ride['indexes_orig'].iloc[i])\n",
    "    c = df_req['origin']\n",
    "    d = df_req['destination']\n",
    "    e = df_ride['u_veh'].iloc[i]\n",
    "    f = df_ride['PassHourTrav_ns'].iloc[i]\n",
    "    g = json.loads(df_ride['indexes_dest'].iloc[i])\n",
    "    h = df_ride['kind'].iloc[i]\n",
    "    if 20<=h<30:\n",
    "        h=2\n",
    "    elif 30<=h<40:\n",
    "        h=3\n",
    "    elif 40<=h<50:\n",
    "        h=4\n",
    "    elif h>=50:\n",
    "        h=5\n",
    "    else:\n",
    "        h=1\n",
    "    for j in range(len(b)):\n",
    "        resop = resop.append({'lambda_r':a,'u_veh':e,'u_veh_ns':f,'index_origin':b[j],'index_dest':g[j],\\\n",
    "                              'origin':c[b[j]],'destination':d[g[j]],'x':c[b[j]],'y':c[b[j]],'degree':h},ignore_index=True)\n",
    "        \n",
    "resop['lam_diff'] = resop['lambda_r']\n",
    "resop['u_diff']   = resop['u_veh']-resop['u_veh_ns']\n",
    "resop['x'] = resop['x'].apply(lambda row: inData.nodes.loc[row].x)\n",
    "resop['y'] = resop['y'].apply(lambda row: inData.nodes.loc[row].y)\n",
    "\n",
    "\n",
    "resop_s = resop[resop['degree']>1]           #filter only sharing rides"
   ]
  },
  {
   "cell_type": "code",
   "execution_count": null,
   "metadata": {},
   "outputs": [],
   "source": [
    "plot_hex_map(inData, resop_s,demand,discount, APERTURE_SIZE = 8, col = 'lambda_r')"
   ]
  }
 ],
 "metadata": {
  "kernelspec": {
   "display_name": "Python 3",
   "language": "python",
   "name": "python3"
  },
  "language_info": {
   "codemirror_mode": {
    "name": "ipython",
    "version": 3
   },
   "file_extension": ".py",
   "mimetype": "text/x-python",
   "name": "python",
   "nbconvert_exporter": "python",
   "pygments_lexer": "ipython3",
   "version": "3.8.5"
  }
 },
 "nbformat": 4,
 "nbformat_minor": 4
}
